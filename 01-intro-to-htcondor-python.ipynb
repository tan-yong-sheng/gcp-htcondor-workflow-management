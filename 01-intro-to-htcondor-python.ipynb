{
 "cells": [
  {
   "cell_type": "markdown",
   "id": "c2befee4-6d19-4000-afe8-201813082a07",
   "metadata": {},
   "source": [
    "# Using Jupyter Notebook as an Interface to access HTCondor "
   ]
  },
  {
   "cell_type": "code",
   "execution_count": 1,
   "id": "f2a21406-4254-4ee1-a08e-f1d2b2cde252",
   "metadata": {},
   "outputs": [],
   "source": [
    "# Installing necessary libraries\n",
    "import os\n",
    "import htcondor"
   ]
  },
  {
   "cell_type": "markdown",
   "id": "8d07bd25-aa51-4da6-b09f-f6308755f850",
   "metadata": {},
   "source": [
    "- Preparing python script: `./data/scripts/print_hello.py` to run"
   ]
  },
  {
   "cell_type": "code",
   "execution_count": 2,
   "id": "3d259207-a1f9-45bb-b84d-102fb14480e7",
   "metadata": {},
   "outputs": [],
   "source": [
    "# Creating a new directory, if not exists\n",
    "os.makedirs(\"./data/scripts\", exist_ok=True)\n",
    "os.makedirs(\"./data/output\", exist_ok=True)\n",
    "os.makedirs(\"./data/error\", exist_ok=True)\n",
    "os.makedirs(\"./data/log\", exist_ok=True)"
   ]
  },
  {
   "cell_type": "code",
   "execution_count": 3,
   "id": "c728a963-4188-471f-99f7-9ca553321524",
   "metadata": {
    "scrolled": true
   },
   "outputs": [
    {
     "name": "stdout",
     "output_type": "stream",
     "text": [
      "Overwriting ./scripts/print_hello.py\n"
     ]
    }
   ],
   "source": [
    "%%writefile ./data/scripts/print_hello.py\n",
    "#!/usr/bin/env python3\n",
    "import time\n",
    "\n",
    "print(\"Hello, dag\")\n",
    "time.sleep(10)\n",
    "print(\"x2 hello\")\n",
    "time.sleep(10)"
   ]
  },
  {
   "cell_type": "code",
   "execution_count": 4,
   "id": "5931196d-441a-4286-ac81-83f18600efc9",
   "metadata": {},
   "outputs": [],
   "source": [
    "# make sure the python script is executable\n",
    "!chmod 764 ./data/scripts/print_hello.py"
   ]
  },
  {
   "cell_type": "markdown",
   "id": "52e926a7-bc22-4078-b0f2-779463580603",
   "metadata": {},
   "source": [
    "- Setting up Configuration file for HTCondor Submit"
   ]
  },
  {
   "cell_type": "code",
   "execution_count": 5,
   "id": "6d9d51de-6ea4-4073-8aa4-bf379da313f2",
   "metadata": {
    "scrolled": true
   },
   "outputs": [
    {
     "name": "stdout",
     "output_type": "stream",
     "text": [
      "executable = ./scripts/print_hello.py\n",
      "request_cpus = 1\n",
      "request_memory = 128MB\n",
      "request_disk = 128MB\n",
      "output = ./output/print_hello.out\n",
      "error = ./error/print_hello.err\n",
      "log = ./log/print_hello.log\n",
      "\n"
     ]
    }
   ],
   "source": [
    "hello_job = htcondor.Submit({\n",
    "    \"executable\": \"./data/scripts/print_hello.py\",  # the program to run on the execute node\n",
    "    \"request_cpus\": \"1\",            # how many CPU cores we want\n",
    "    \"request_memory\": \"128MB\",      # how much memory we want\n",
    "    \"request_disk\": \"128MB\",        # how much disk space we want\n",
    "    \"output\": \"./data/output/print_hello.out\",       # anything the job prints to standard output will end up in this file\n",
    "    \"error\": \"./data/error/print_hello.err\",        # anything the job prints to standard error will end up in this file\n",
    "    \"log\": \"./data/log/print_hello.log\",          # this file will contain a record of what happened to the job\n",
    "})\n",
    "\n",
    "print(hello_job)"
   ]
  },
  {
   "cell_type": "markdown",
   "id": "c3733abc-acde-4a5b-b8ac-51eed9e7796f",
   "metadata": {},
   "source": [
    "- Submit the task to HTCondor task"
   ]
  },
  {
   "cell_type": "code",
   "execution_count": 6,
   "id": "9eb5ccbb-ca30-4218-b112-be2518668ede",
   "metadata": {},
   "outputs": [
    {
     "name": "stdout",
     "output_type": "stream",
     "text": [
      "86\n"
     ]
    }
   ],
   "source": [
    "schedd = htcondor.Schedd()                   # get the Python representation of the scheduler\n",
    "submit_result = schedd.submit(hello_job)  # submit the job\n",
    "print(submit_result.cluster())               # print the job's ClusterId"
   ]
  },
  {
   "cell_type": "code",
   "execution_count": 7,
   "id": "c64fed07-caba-40c5-979e-ade9a872bd28",
   "metadata": {
    "scrolled": true
   },
   "outputs": [
    {
     "data": {
      "text/plain": [
       "[[ ProcId = 0; ClusterId = 86; JobStatus = 1; ServerTime = 1735658988; EnteredCurrentStatus = 1735658988 ]]"
      ]
     },
     "execution_count": 7,
     "metadata": {},
     "output_type": "execute_result"
    }
   ],
   "source": [
    "schedd.query(\n",
    "    constraint='ClusterId =?= {}'.format(submit_result.cluster()),\n",
    "    projection=[\"ClusterId\", \"ProcId\", \"JobStatus\", \"EnteredCurrentStatus\"],\n",
    ")"
   ]
  }
 ],
 "metadata": {
  "kernelspec": {
   "display_name": "Python 3 (ipykernel)",
   "language": "python",
   "name": "python3"
  },
  "language_info": {
   "codemirror_mode": {
    "name": "ipython",
    "version": 3
   },
   "file_extension": ".py",
   "mimetype": "text/x-python",
   "name": "python",
   "nbconvert_exporter": "python",
   "pygments_lexer": "ipython3",
   "version": "3.10.12"
  }
 },
 "nbformat": 4,
 "nbformat_minor": 5
}
